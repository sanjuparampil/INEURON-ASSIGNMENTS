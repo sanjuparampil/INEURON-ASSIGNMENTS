{
 "cells": [
  {
   "cell_type": "markdown",
   "id": "45da9fee",
   "metadata": {},
   "source": [
    "1. In the below elements which of them are values or an expression? eg:- values can be integer or string and expressions will be mathematical operators."
   ]
  },
  {
   "cell_type": "markdown",
   "id": "cc910f4a",
   "metadata": {},
   "source": [
    "Values : 'hello', -87.8, 6\n",
    "Expression : -, +, /"
   ]
  },
  {
   "cell_type": "markdown",
   "id": "718526ce",
   "metadata": {},
   "source": [
    "2. What is the difference between string and variable?"
   ]
  },
  {
   "cell_type": "markdown",
   "id": "47be58c9",
   "metadata": {},
   "source": [
    "A variable is a location of the memory that is in the computer. It can store informations in the form of string or integers.\n",
    "String is a type of value that can be stored in a variable."
   ]
  },
  {
   "cell_type": "markdown",
   "id": "bd2fbe79",
   "metadata": {},
   "source": [
    "3. Describe three different data types."
   ]
  },
  {
   "cell_type": "markdown",
   "id": "fb0bf633",
   "metadata": {},
   "source": [
    "3 different data types are : string, boolean and integer. String contains alphabets, numbers, symbols or a combination of three. Boolean returns either True or False, where True gives output 1 and False as 0. Integers stores whole numbers that range from -2,147,483,647 to 2,147,483,647 for 9 or 10 digits of precision.    "
   ]
  },
  {
   "cell_type": "markdown",
   "id": "dc880c15",
   "metadata": {},
   "source": [
    "4. What is an expression made up of? What do all expressions do?"
   ]
  },
  {
   "cell_type": "markdown",
   "id": "bd406bf4",
   "metadata": {},
   "source": [
    "An expression is a construct made up of variables, operators, and method invocations, which are constructed according to the syntax of the language, that evaluates to a single value.It is a combination of variables, operations and values that provides a result. It evaluates the expression and displays the result. "
   ]
  },
  {
   "cell_type": "markdown",
   "id": "0f8c16c1",
   "metadata": {},
   "source": [
    "5. This assignment statements, like spam = 10. What is the difference between an expression and a statement?"
   ]
  },
  {
   "cell_type": "markdown",
   "id": "8a24279b",
   "metadata": {},
   "source": [
    "Expressions always returns a value. A statement never returns a value."
   ]
  },
  {
   "cell_type": "markdown",
   "id": "400ba835",
   "metadata": {},
   "source": [
    "6. After running the following code, what does the variable bacon contain?\n",
    "bacon = 22\n",
    "bacon + 1\n"
   ]
  },
  {
   "cell_type": "markdown",
   "id": "415e2725",
   "metadata": {},
   "source": [
    "22"
   ]
  },
  {
   "cell_type": "markdown",
   "id": "150aeb10",
   "metadata": {},
   "source": [
    "7. What should the values of the following two terms be?\n",
    "'spam' + 'spamspam'\n",
    "'spam' * 3\n"
   ]
  },
  {
   "cell_type": "markdown",
   "id": "aa1fe481",
   "metadata": {},
   "source": [
    "\n",
    "'spamspamspam'\n"
   ]
  },
  {
   "cell_type": "markdown",
   "id": "0678b4c5",
   "metadata": {},
   "source": [
    "8. Why is eggs a valid variable name while 100 is invalid?"
   ]
  },
  {
   "cell_type": "markdown",
   "id": "6d9d4f69",
   "metadata": {},
   "source": [
    "A variable is a memory or space where we can store a value. Here eggs is not a value but a random name given to variable, whereas 100 is a value that can be assigned to a variable."
   ]
  },
  {
   "cell_type": "markdown",
   "id": "124fa81c",
   "metadata": {},
   "source": [
    "9. What three functions can be used to get the integer, floating-point number, or string version of a value?\n"
   ]
  },
  {
   "cell_type": "markdown",
   "id": "3b8b0a7f",
   "metadata": {},
   "source": [
    "int(), float(), str()"
   ]
  },
  {
   "cell_type": "markdown",
   "id": "1eee70cb",
   "metadata": {},
   "source": [
    "10. Why does this expression cause an error? How can you fix it?\n",
    "'I have eaten ' + 99 + ' burritos.'\n"
   ]
  },
  {
   "cell_type": "markdown",
   "id": "00f06f7d",
   "metadata": {},
   "source": [
    "Its because 99 is an integer data type. Make it to string data type to fix the error.\n",
    " 'I have eaten'+str(99)+'burritos'"
   ]
  },
  {
   "cell_type": "code",
   "execution_count": null,
   "id": "f3ce74c2",
   "metadata": {},
   "outputs": [],
   "source": []
  }
 ],
 "metadata": {
  "kernelspec": {
   "display_name": "Python 3",
   "language": "python",
   "name": "python3"
  },
  "language_info": {
   "codemirror_mode": {
    "name": "ipython",
    "version": 3
   },
   "file_extension": ".py",
   "mimetype": "text/x-python",
   "name": "python",
   "nbconvert_exporter": "python",
   "pygments_lexer": "ipython3",
   "version": "3.8.8"
  }
 },
 "nbformat": 4,
 "nbformat_minor": 5
}
